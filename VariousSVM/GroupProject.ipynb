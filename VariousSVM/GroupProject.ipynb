{
 "cells": [
  {
   "cell_type": "markdown",
   "metadata": {},
   "source": [
    "## Clean up Data into X and y arrays"
   ]
  },
  {
   "cell_type": "code",
   "execution_count": 1,
   "metadata": {},
   "outputs": [
    {
     "name": "stdout",
     "output_type": "stream",
     "text": [
      "['0.008293249295', '0.000095877277', '4.5', '4', '4.50', '4.52467232074017', '0.653652515029939', '0.015805705474', '0.017347725520', '0.055127216653', '0.249807247494', '0.661912104857', '0', '5', '-0.0714285714285714', '4.21428571428571', '0.000000000000', '1.000000000000', '1.000000000000', '0.000000000000', '0.000000000000', '1.000000000000', '1.000000000000', '0.000000000000', '5']\n",
      "<class 'list'>\n"
     ]
    }
   ],
   "source": [
    "import csv \n",
    "\n",
    "with open(\"/Users/alexraman/Downloads/TrainData.csv\") as f:\n",
    "    reader = csv.reader(f)\n",
    "    header_names = next(reader)\n",
    "    data = []\n",
    "    for row in reader:\n",
    "        data.append(row)\n",
    "        \n",
    "print(data[0])\n",
    "print(type(data[0]))\n"
   ]
  },
  {
   "cell_type": "code",
   "execution_count": 2,
   "metadata": {},
   "outputs": [
    {
     "name": "stdout",
     "output_type": "stream",
     "text": [
      "150197\n"
     ]
    }
   ],
   "source": [
    "print(len(data))"
   ]
  },
  {
   "cell_type": "code",
   "execution_count": 3,
   "metadata": {},
   "outputs": [
    {
     "name": "stdout",
     "output_type": "stream",
     "text": [
      "['0.008293249295', '0.000095877277', '4.5', '4', '4.50', '4.52467232074017', '0.653652515029939', '0.015805705474', '0.017347725520', '0.055127216653', '0.249807247494', '0.661912104857', '0', '5', '-0.0714285714285714', '4.21428571428571', '0.000000000000', '1.000000000000', '1.000000000000', '0.000000000000', '0.000000000000', '1.000000000000', '1.000000000000', '0.000000000000']\n",
      "['0.660806103831', '0.036361457334', '4.02', '4', '4.00', '4.12082281301054', '0.821717139489925', '0.018342492202', '0.040843606119', '0.125129956928', '0.433016485964', '0.382667458785', '-8.11767379939605E-05', '3.84663008301674', '0.000332617500657355', '4.09031104298397', '0.328502415458', '0.671497584541', '0.386473429951', '0.285024154589', '0.022801302931', '0.977198697068', '0.654723127035', '0.322475570032']\n",
      "4\n",
      "['\\ufeffBusinessReviewCount', 'UserReviewCount', 'RealUserAverageStars', 'BusinessAverageStars', 'NearestUserAverageStars', 'ReviewCategoryAverageStars', 'ReviewCategoryVariance', 'OneStar', 'TwoStar', 'ThreeStar', 'FourStar', 'FiveStar', 'UserSlopeM', 'UserInterceptB', 'BusinessSlopeM', 'BusinessInterceptB', 'UserEqualratedPercent', 'UserOverunderratedReviewPercent', 'UserOverratedPercent', 'UserUnderratedPercent', 'BusinessEqualratedPercent', 'BusinessOverunderratedReviewPercent', 'BusinessOverratedPercent', 'BusinessUnderratedPercent', 'y']\n"
     ]
    }
   ],
   "source": [
    "print(data[0][0:len(data[0])-1])\n",
    "\n",
    "X = [elem[0:len(elem)-1] for i, elem in enumerate(data) if i < len(data)-1]\n",
    "y = [elem[-1] for i, elem in enumerate(data) if i < len(data)-1]\n",
    "\n",
    "\n",
    "print(X[-1])\n",
    "print(y[-1])\n",
    "print(header_names)\n",
    "    "
   ]
  },
  {
   "cell_type": "code",
   "execution_count": 4,
   "metadata": {},
   "outputs": [
    {
     "name": "stdout",
     "output_type": "stream",
     "text": [
      "[0.008293249295, 9.5877277e-05, 4.5, 4.0, 4.5, 4.52467232074017, 0.653652515029939, 0.015805705474, 0.01734772552, 0.055127216653, 0.249807247494, 0.661912104857, 0.0, 5.0, -0.0714285714285714, 4.21428571428571, 0.0, 1.0, 1.0, 0.0, 0.0, 1.0, 1.0, 0.0]\n",
      "<class 'float'>\n"
     ]
    }
   ],
   "source": [
    "for i, row in enumerate(X):\n",
    "    for j, num in enumerate(row):\n",
    "        X[i][j] = float(num)\n",
    "        \n",
    "for k, num in enumerate(y):\n",
    "    y[k] = float(num)\n",
    "    \n",
    "print(X[0])\n",
    "print(type(y[0]))"
   ]
  },
  {
   "cell_type": "markdown",
   "metadata": {},
   "source": [
    "## Throw Data into SVM"
   ]
  },
  {
   "cell_type": "code",
   "execution_count": 5,
   "metadata": {},
   "outputs": [
    {
     "data": {
      "text/plain": [
       "SVC(C=1.0, cache_size=200, class_weight=None, coef0=0.0,\n",
       "  decision_function_shape='ovr', degree=3, gamma='auto_deprecated',\n",
       "  kernel='linear', max_iter=-1, probability=False, random_state=None,\n",
       "  shrinking=True, tol=0.001, verbose=False)"
      ]
     },
     "execution_count": 5,
     "metadata": {},
     "output_type": "execute_result"
    }
   ],
   "source": [
    "import numpy as np\n",
    "\n",
    "X_np = np.array(X)\n",
    "y_np = np.array(y)\n",
    "\n",
    "\n",
    "from sklearn.svm import SVC\n",
    "from sklearn.model_selection import train_test_split\n",
    "X_train, X_test, y_train, y_test = train_test_split(X_np, y_np, test_size=0.33, random_state=42)\n",
    "\n",
    "clf = SVC(kernel = 'linear')\n",
    "clf.fit(X_train, y_train) "
   ]
  },
  {
   "cell_type": "code",
   "execution_count": 6,
   "metadata": {},
   "outputs": [
    {
     "data": {
      "text/plain": [
       "0.5122566327045294"
      ]
     },
     "execution_count": 6,
     "metadata": {},
     "output_type": "execute_result"
    }
   ],
   "source": [
    "y_pred = clf.predict(X_test)\n",
    "\n",
    "from sklearn.metrics import accuracy_score\n",
    "accuracy_score(y_test, y_pred)"
   ]
  },
  {
   "cell_type": "code",
   "execution_count": 7,
   "metadata": {},
   "outputs": [
    {
     "data": {
      "text/plain": [
       "array([[ 1005,    34,   699,   936,   235],\n",
       "       [  439,    47,  1492,  2112,   356],\n",
       "       [  157,    33,  2522,  5744,   807],\n",
       "       [  114,    15,  1305, 13012,  3247],\n",
       "       [   98,     4,   312,  6036,  8804]])"
      ]
     },
     "execution_count": 7,
     "metadata": {},
     "output_type": "execute_result"
    }
   ],
   "source": [
    "from sklearn.metrics import confusion_matrix\n",
    "\n",
    "confusion_matrix(y_test, y_pred)"
   ]
  },
  {
   "cell_type": "code",
   "execution_count": 19,
   "metadata": {},
   "outputs": [
    {
     "data": {
      "text/plain": [
       "1.0643801069302936"
      ]
     },
     "execution_count": 19,
     "metadata": {},
     "output_type": "execute_result"
    }
   ],
   "source": [
    "from sklearn.metrics import mean_squared_error\n",
    "mean_squared_error(y_test, y_pred)"
   ]
  },
  {
   "cell_type": "code",
   "execution_count": null,
   "metadata": {},
   "outputs": [],
   "source": [
    "from sklearn.model_selection import GridSearchCV\n",
    "from sklearn.metrics import classification_report\n",
    "from sklearn.svm import SVC\n",
    "\n",
    "\n",
    "tuned_parameters = [{'kernel': ['rbf'], 'gamma': [1e-3, 1e-4],\n",
    "                     'C': [1, 10, 100, 1000]},\n",
    "                    {'kernel': ['linear'], 'C': [1, 10, 100, 1000]}]\n",
    "\n",
    "clf_2 = GridSearchCV(SVC(), tuned_parameters, cv=5)\n",
    "clf_2.fit(X_train, y_train)\n",
    "\n",
    "print(\"Best parameters set found on development set:\")\n",
    "print()\n",
    "print(clf_2.best_params_)\n",
    "print()\n",
    "print(\"Grid scores on development set:\")\n",
    "print()\n",
    "means = clf_2.cv_results_['mean_test_score']\n",
    "stds = clf_2.cv_results_['std_test_score']\n",
    "for mean, std, params in zip(means, stds, clf_2.cv_results_['params']):\n",
    "    print(\"%0.3f (+/-%0.03f) for %r\"\n",
    "          % (mean, std * 2, params))\n",
    "print()\n",
    "\n",
    "print(\"Detailed classification report:\")\n",
    "print()\n",
    "print(\"The model is trained on the full development set.\")\n",
    "print(\"The scores are computed on the full evaluation set.\")\n",
    "print()\n",
    "y_true, y_pred = y_test, clf_2.predict(X_test)\n",
    "print(classification_report(y_true, y_pred))\n",
    "print()\n",
    "\n"
   ]
  },
  {
   "cell_type": "code",
   "execution_count": null,
   "metadata": {},
   "outputs": [],
   "source": []
  },
  {
   "cell_type": "code",
   "execution_count": null,
   "metadata": {},
   "outputs": [],
   "source": []
  }
 ],
 "metadata": {
  "kernelspec": {
   "display_name": "Python 3",
   "language": "python",
   "name": "python3"
  },
  "language_info": {
   "codemirror_mode": {
    "name": "ipython",
    "version": 3
   },
   "file_extension": ".py",
   "mimetype": "text/x-python",
   "name": "python",
   "nbconvert_exporter": "python",
   "pygments_lexer": "ipython3",
   "version": "3.6.6"
  }
 },
 "nbformat": 4,
 "nbformat_minor": 2
}
